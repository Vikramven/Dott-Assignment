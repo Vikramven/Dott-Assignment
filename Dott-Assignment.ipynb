{
 "cells": [
  {
   "attachments": {},
   "cell_type": "markdown",
   "metadata": {},
   "source": [
    "# Assignment - Data Science Intern position @ Dott"
   ]
  },
  {
   "cell_type": "markdown",
   "metadata": {},
   "source": [
    "## Task\n",
    "### Is the  distance estimate better improved through a **heuristic** or **model**?"
   ]
  },
  {
   "cell_type": "markdown",
   "metadata": {},
   "source": [
    "## Heuristic\n",
    "These are some questions I formulated that could influence my choice:\n",
    "- Is there a possibility of large fluctuations of variables/metrics that could happen, for example, over:\n",
    "  - Different cities\n",
    "  - Different vehicle types?\n",
    "  Can a heuristic capture and account for deviations unique to specific market regions?\n",
    "  \n",
    "More importantly,:\n",
    "- Can the heuristic evolve to fit the changing product and company needs?\n",
    "- What if a **KPI is added?**, one that differs across different markets?\n",
    "- ***The distance estimate varies across different vehicle types***, is it a good idea to hard-code a heuristic?\n",
    "\n",
    "### Even a modest change, such as change of demand of scooters, can have a major effect on heuristic performance\n",
    "\n",
    "### One **Pro** of the heuristic solution is it offers a ***quick*** answer to a planning and scheduling problem, but not an ***optimal*** one"
   ]
  },
  {
   "cell_type": "markdown",
   "metadata": {},
   "source": [
    "## Model\n",
    "These are the **pros** of using a Model Selection Approach:\n",
    "- Produces, **over time**, an optimal solution\n",
    "- Outperform heuristics to maximize operational efficiency\n",
    "- Flexibility - Adjust parameters to accommodate changing goals, constraints\n",
    "- Possibility to add complexity - can also be a con (Overfitting and deploying to production)\n",
    "\n",
    "### Of course, quality and quantity of data is an important underlying factor, if data from a different problem is used for a use-case, it will likely underperform compared to the heruistic\n"
   ]
  },
  {
   "cell_type": "markdown",
   "metadata": {},
   "source": [
    "## Which is the right approach?\n",
    "### In many cases, a complementary approach between model optimization and heuristics could be the most effective solution\n",
    "\n",
    "## My approach: A complementary solution, or a basic ARIMA/Random Forest Regressor Model \n",
    "### Model Selection \n",
    "Why ARIMA?\n",
    "- Takes seasonality into account - important from a product perspective - Rides can boom/dip suring summer, for example\n",
    "- Already has some feature engineering built in  - for example, lag features - which could be essential if you want to account for the previous entry's possible rate of error - could handle the genuine bugs/outliers in the dataset\n",
    " \n",
    "Why Random Forest?\n",
    "\n",
    "\n",
    "\n",
    "### How?\n",
    "### Benchmark a Model with a Heuristic\n",
    "- Use a heuristic to establish a baseline\n",
    "  - Product-wise in a real-time env, this could even be a solution that could be shipped\n",
    "- Establishing a **baseline to beat** could also lead to a better integrated solution - one that could be trained on an existing expectation of how large/small a KPI is set to\n",
    "\n",
    "## Why?\n",
    "The added advantages of training a model on a heuristic are:\n",
    "- Use a pre-coded heuristic with product know-how and decision making experience to generate a **good** solution\n",
    "- You don't need to let the model start from scratch. The model will either improve the heuristic or achieve optimality eventually"
   ]
  }
 ],
 "metadata": {
  "language_info": {
   "name": "python"
  },
  "orig_nbformat": 4
 },
 "nbformat": 4,
 "nbformat_minor": 2
}
