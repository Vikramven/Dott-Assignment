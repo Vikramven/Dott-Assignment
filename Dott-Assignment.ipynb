{
 "cells": [
  {
   "attachments": {},
   "cell_type": "markdown",
   "metadata": {},
   "source": [
    "# Assignment - Data Science Intern position @ Dott"
   ]
  },
  {
   "cell_type": "markdown",
   "metadata": {},
   "source": [
    "## Task\n",
    "### Is the  distance estimate better improved through a **heuristic** or **model**?"
   ]
  },
  {
   "cell_type": "markdown",
   "metadata": {},
   "source": [
    "## Heuristic\n",
    "These are some questions I formulated that could influence my choice:\n",
    "- Is there a possibility of large fluctuations of variables/metrics that could happen, for example, over:\n",
    "  - Different cities\n",
    "  - Different vehicle types?\n",
    "  Can a heuristic capture and account for deviations unique to specific market regions?\n",
    "  \n",
    "More importantly,:\n",
    "- Can the heuristic evolve to fit the changing product and company needs?\n",
    "- What if a **KPI is added?**, one that differs across different markets?\n",
    "- ***The distance estimate varies across different vehicle types***, is it a good idea to hard-code a heuristic?\n",
    "\n",
    "### Even a modest change, such as change of demand of scooters, can have a major effect on heuristic performance\n",
    "\n",
    "### One **Pro** of the heuristic solution is it offers a ***quick*** answer to a planning and scheduling problem, but not an ***optimal*** one"
   ]
  },
  {
   "cell_type": "markdown",
   "metadata": {},
   "source": [
    "## Model\n",
    "These are the **pros** of using a Model Selection Approach:\n",
    "- Produces, **over time**, an optimal solution\n",
    "- Outperform heuristics to maximize operational efficiency\n",
    "- Flexibility - Adjust parameters to accommodate changing goals, constraints\n",
    "- Possibility to add complexity - can also be a con (Overfitting and deploying to production)\n",
    "\n",
    "### Of course, quality and quantity of data is an important underlying factor, if data from a different problem is used for a use-case, it will likely underperform compared to the heruistic\n"
   ]
  },
  {
   "attachments": {},
   "cell_type": "markdown",
   "metadata": {},
   "source": [
    "## Which is the right approach?\n",
    "### In many cases, a complementary approach between model optimization and heuristics could be the most effective solution\n",
    "\n",
    "### My approach: A complementary solution, or a basic Random Forest Regressor Model \n",
    "### Model Selection \n",
    " \n",
    "Why Random Forest?\n",
    "- Could capture **Non-Linearity**. Relationships between **battery levels,vehicle types,ride usage across cities** could be non-linear\n",
    "- Noise-resistant - Less sensitive to noise compared to decision trees - stable choice\n",
    "- Generalization - Handles unseen data well, preventing a risk of underfitting or overfitting\n",
    "\n",
    "\n",
    "### How?\n",
    "### Benchmark a Model with a Heuristic\n",
    "- Use a heuristic to establish a baseline\n",
    "  - Product-wise in a real-time env, this could even be a solution that could be shipped\n",
    "- Establishing a **baseline to beat** could also lead to a better integrated solution - one that could be trained on an existing expectation of how large/small a KPI is set to\n",
    "\n",
    "## Why?\n",
    "The added advantages of training a model on a heuristic are:\n",
    "- Use a pre-coded heuristic with product know-how and decision making experience to generate a **good** solution\n",
    "- You don't need to let the model start from scratch. The model will either improve the heuristic or achieve optimality eventually"
   ]
  },
  {
   "cell_type": "code",
   "execution_count": 12,
   "metadata": {},
   "outputs": [],
   "source": [
    "#libraries\n",
    "import numpy as np\n",
    "import pandas as pd\n",
    "#for preventing under/overfitting, better performance on unseen and new data\n",
    "from sklearn.model_selection import train_test_split\n",
    "#model\n",
    "from sklearn.ensemble import RandomForestRegressor\n",
    "#comparison, estimations\n",
    "from sklearn.metrics import mean_squared_error\n",
    "import matplotlib.pyplot as plt"
   ]
  },
  {
   "cell_type": "code",
   "execution_count": 13,
   "metadata": {},
   "outputs": [],
   "source": [
    "#load dataset\n",
    "data=pd.read_csv('/Users/vikramvenkat/Downloads/dott_dsia_rides.csv')"
   ]
  },
  {
   "cell_type": "code",
   "execution_count": 65,
   "metadata": {},
   "outputs": [],
   "source": [
    "'''\n",
    "Had to impute the data- didn't run without exception handling\n",
    "imputed battery voltage values with mean\n",
    "'''\n",
    "imputer = SimpleImputer(strategy='mean')\n",
    "data['battery_voltage'] = imputer.fit_transform(data[['battery_voltage']])\n",
    "\n",
    "# Convert categorical variable to numeric using label encoding\n",
    "label_encoder = LabelEncoder()\n",
    "data['vehicle_type'] = label_encoder.fit_transform(data['vehicle_type'])"
   ]
  },
  {
   "attachments": {},
   "cell_type": "markdown",
   "metadata": {},
   "source": [
    "### Basic Heuristic\n",
    "The heuristic given in the assignment pdf"
   ]
  },
  {
   "cell_type": "code",
   "execution_count": 33,
   "metadata": {},
   "outputs": [],
   "source": [
    "def basic_heuristic_function(row):\n",
    "    estimated_range = row['main_battery_level_before_ride'] / 100 * row['estimated_range_after_ride']\n",
    "    return estimated_range"
   ]
  },
  {
   "attachments": {},
   "cell_type": "markdown",
   "metadata": {},
   "source": [
    "### Improved heuristic\n",
    "This was my idea for a potentially better heuristic.\n",
    "\n",
    "The current one doesn't incorporate factors that could influence the estimation\n",
    "\n",
    "Hence, I implement a heuristic that accounts for **battery level and vehicle type**, while considering the efficiency of different types of vehicles\n",
    "\n",
    "### Battery Factor\n",
    "Can help in determining the efficiency of the vehicle\n",
    "Values are chosen on assumptions based on my domain knowledge, I assume a scooter is more powerful than a bike\n",
    "This can be refined through experimentation, but parameter refining is not the focus\n"
   ]
  },
  {
   "cell_type": "code",
   "execution_count": 59,
   "metadata": {},
   "outputs": [],
   "source": [
    "def improved_heuristic_function(row):\n",
    "    battery_factor = 3 if row['vehicle_type'] == 0 else 4\n",
    "    battery_factor *= row['battery_voltage'] / 3600\n",
    "    estimated_distance = row['main_battery_level_before_ride'] * battery_factor\n",
    "    return estimated_distance\n",
    "\n",
    "    if row['market'] == 'Ghent' and row['main_battery_level_before_ride'] <= 6:\n",
    "        estimated_distance = 0\n",
    "    elif (row['market'] == 'Malaga' or row['market'] == 'Malbork') and row['main_battery_level_before_ride'] <= 5:\n",
    "        estimated_distance = 0\n",
    "        \n",
    "    return estimated_distance"
   ]
  },
  {
   "attachments": {},
   "cell_type": "markdown",
   "metadata": {},
   "source": [
    "### Apply the heuristic functions to the dataset\n",
    "Forms a part of the complementary approach - train the model on the heuristics"
   ]
  },
  {
   "cell_type": "code",
   "execution_count": 60,
   "metadata": {},
   "outputs": [],
   "source": [
    "\n",
    "data['BasicHeuristic'] = data.apply(basic_heuristic_function, axis=1)\n",
    "data['NewHeuristic'] = data.apply(improved_heuristic_function, axis=1)\n",
    "\n",
    "# Split data for training\n",
    "X = data[['main_battery_level_before_ride', 'vehicle_type']]\n",
    "y = data['total_distance_meters']\n",
    "X_train, X_test, y_train, y_test = train_test_split(X, y, test_size=0.2, random_state=42)\n",
    "\n",
    "# Create an imputer object\n",
    "imputer = SimpleImputer(strategy='mean')\n",
    "\n",
    "# Fit and transform the imputer on the training data\n",
    "X_train_imputed = imputer.fit_transform(X_train)\n",
    "X_test_imputed = imputer.transform(X_test)"
   ]
  },
  {
   "attachments": {},
   "cell_type": "markdown",
   "metadata": {},
   "source": [
    "### Random Forest"
   ]
  },
  {
   "cell_type": "code",
   "execution_count": 61,
   "metadata": {},
   "outputs": [
    {
     "name": "stdout",
     "output_type": "stream",
     "text": [
      "       Basic Heuristic  Improved Heuristic  Model Estimate  Dataset value\n",
      "6656           26100.0         3148.483973     2554.521808    1586.218780\n",
      "37204          45479.0         2670.000000     2705.009490    2561.795937\n",
      "24199           1078.0          660.000000     2389.411733     939.786905\n",
      "4855            4180.0         1488.333333     2439.951001    2070.955001\n",
      "41422           8928.0         3237.777778     2295.511754     937.335643\n",
      "...                ...                 ...             ...            ...\n",
      "23632          34398.0         2340.000000     2747.023951    1014.485672\n",
      "46481          20167.0         2109.484262     2885.988389    6341.240009\n",
      "9172           25599.0         2070.000000     2809.771968    1286.538479\n",
      "19030           6960.0         2434.827605     2375.715328     776.568299\n",
      "43362            616.0          660.000000     2389.411733    2484.262237\n",
      "\n",
      "[9520 rows x 4 columns]\n"
     ]
    }
   ],
   "source": [
    "model = RandomForestRegressor(n_estimators=100, random_state=42)\n",
    "model.fit(X_train_imputed, y_train)\n",
    "\n",
    "# Model-predicted distance\n",
    "predicted_distances_model = model.predict(X_test_imputed)\n",
    "\n",
    "#Comparisons\n",
    "comparison_df = pd.DataFrame({\n",
    "    'Basic Heuristic': data.loc[X_test.index, 'BasicHeuristic'],\n",
    "    'Improved Heuristic': data.loc[X_test.index, 'NewHeuristic'],\n",
    "    'Model Estimate': predicted_distances_model,\n",
    "    'Dataset value': y_test\n",
    "})\n",
    "\n",
    "\n",
    "print(comparison_df)"
   ]
  },
  {
   "attachments": {},
   "cell_type": "markdown",
   "metadata": {},
   "source": [
    "## Some quick sanity Checks"
   ]
  },
  {
   "cell_type": "code",
   "execution_count": 64,
   "metadata": {},
   "outputs": [
    {
     "name": "stdout",
     "output_type": "stream",
     "text": [
      "Mean Squared Error (Basic Heuristic): 578699867.3145679\n",
      "Mean Squared Error (Improved Heuristic): 3907103.8083442617\n",
      "Mean Squared Error (Model Estimate): 2871624.762405712\n"
     ]
    },
    {
     "data": {
      "image/png": "[encoded data removed]",
      "text/plain": [
       "<Figure size 1000x600 with 1 Axes>"
      ]
     },
     "metadata": {},
     "output_type": "display_data"
    }
   ],
   "source": [
    "'''\n",
    "The mse wasn't running due to NaN errors, so I did a further imputation on the test set\n",
    "Duplicated a new comparison df here\n",
    "'''\n",
    "X_test_imputed = imputer.transform(X_test)\n",
    "\n",
    "# Predict distances for the test set using the model\n",
    "predicted_distances_model = model.predict(X_test_imputed)\n",
    "\n",
    "\n",
    "comparison_df = pd.DataFrame({\n",
    "    'Basic Heuristic': data.loc[X_test.index, 'BasicHeuristic'],\n",
    "    'Improved Heuristic': data.loc[X_test.index, 'NewHeuristic'],\n",
    "    'Model Estimate': predicted_distances_model,\n",
    "    'Dataset value': y_test\n",
    "})\n",
    "\n",
    "# handling NaN's\n",
    "comparison_df.dropna(inplace=True)\n",
    "\n",
    "# Calculate Mean Squared Error for each approach\n",
    "mse_basic_heuristic = mean_squared_error(comparison_df['Dataset value'], comparison_df['Basic Heuristic'])\n",
    "mse_improved_heuristic = mean_squared_error(comparison_df['Dataset value'], comparison_df['Improved Heuristic'])\n",
    "mse_model = mean_squared_error(comparison_df['Dataset value'], comparison_df['Model Estimate'])\n",
    "\n",
    "\n",
    "print(\"Mean Squared Error (Basic Heuristic):\", mse_basic_heuristic)\n",
    "print(\"Mean Squared Error (Improved Heuristic):\", mse_improved_heuristic)\n",
    "print(\"Mean Squared Error (Model Estimate):\", mse_model)\n",
    "\n",
    "# Visualize Mean Squared Errors\n",
    "plt.figure(figsize=(10, 6))\n",
    "approaches = ['Basic Heuristic', 'Improved Heuristic', 'Model Estimate']\n",
    "mse_values = [mse_basic_heuristic, mse_improved_heuristic, mse_model]\n",
    "plt.bar(approaches, mse_values, color=['blue', 'green', 'orange'])\n",
    "plt.xlabel('Approach')\n",
    "plt.ylabel('Mean Squared Error')\n",
    "plt.title('Mean Squared Error Comparison')\n",
    "plt.show()\n"
   ]
  },
  {
   "attachments": {},
   "cell_type": "markdown",
   "metadata": {},
   "source": [
    "## Inference\n",
    "### It does seem that the MSE for the basic heuristic is high, this could be a nice motivation for choosing an improved heuristic as the baseline for the Random Forest model.\n"
   ]
  },
  {
   "attachments": {},
   "cell_type": "markdown",
   "metadata": {},
   "source": [
    "## Footnotes    \n",
    "- https://www.icrontech.com/blog_item/which-algorithmic-tools-do-you-need-to-solve-your-supply-chain-problems\n",
    "- https://www.icrontech.com/blog_item/optimization-vs-heuristics-which-is-the-right-approach-for-your-business\n",
    "- https://enjoymachinelearning.com/blog/heuristic-algorithm-vs-machine-learning/\n",
    "- https://towardsdatascience.com/a-case-for-heuristics-why-simple-solutions-often-win-in-data-science-a31967766daa\n",
    "- https://www.sciencedirect.com/science/article/abs/pii/S0341816220301302\n",
    "- https://statmodeling.stat.columbia.edu/2020/08/14/decision-making-under-uncertainty-heuristics-vs-models/\n",
    "- https://stats.stackexchange.com/questions/300350/is-machine-learning-an-heuristic-method"
   ]
  },
  {
   "cell_type": "markdown",
   "metadata": {},
   "source": []
  }
 ],
 "metadata": {
  "kernelspec": {
   "display_name": "Python 3.10.11 64-bit",
   "language": "python",
   "name": "python3"
  },
  "language_info": {
   "codemirror_mode": {
    "name": "ipython",
    "version": 3
   },
   "file_extension": ".py",
   "mimetype": "text/x-python",
   "name": "python",
   "nbconvert_exporter": "python",
   "pygments_lexer": "ipython3",
   "version": "3.11.3"
  },
  "orig_nbformat": 4,
  "vscode": {
   "interpreter": {
    "hash": "7e1998ff7f8aa20ada591c520b972326324e5ea05489af9e422744c7c09f6dad"
   }
  }
 },
 "nbformat": 4,
 "nbformat_minor": 2
}
