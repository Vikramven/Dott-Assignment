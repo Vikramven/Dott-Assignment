{
 "cells": [
  {
   "attachments": {},
   "cell_type": "markdown",
   "metadata": {},
   "source": [
    "# Assignment - Data Science Intern position @ Dott"
   ]
  },
  {
   "cell_type": "markdown",
   "metadata": {},
   "source": [
    "## Task\n",
    "### Is the  distance estimate better improved through a **heuristic** or **model**?"
   ]
  },
  {
   "cell_type": "markdown",
   "metadata": {},
   "source": [
    "## Heuristic\n",
    "These are some questions I formulated that could influence my choice:\n",
    "- Is there a possibility of large fluctuations of variables/metrics that could happen, for example, over:\n",
    "  - Different cities\n",
    "  - Different vehicle types?\n",
    "  Can a heuristic capture and account for deviations unique to specific market regions?\n",
    "  \n",
    "More importantly,:\n",
    "- Can the heuristic evolve to fit the changing product and company needs?\n",
    "- What if a **KPI is added?**, one that differs across different markets?\n",
    "- ***The distance estimate varies across different vehicle types***, is it a good idea to hard-code a heuristic?\n",
    "\n",
    "### Even a modest change, such as change of demand of scooters, can have a major effect on heuristic performance\n",
    "\n",
    "### One **Pro** of the heuristic solution is it offers a ***quick*** answer to a planning and scheduling problem, but not an ***optimal*** one"
   ]
  },
  {
   "cell_type": "markdown",
   "metadata": {},
   "source": [
    "## Model\n",
    "These are the **pros** of using a Model Selection Approach:\n",
    "- Produces, **over time**, an optimal solution\n",
    "- Outperform heuristics to maximize operational efficiency\n",
    "- Flexibility - Adjust parameters to accommodate changing goals, constraints\n",
    "- Possibility to add complexity - can also be a con (Overfitting and deploying to production)\n",
    "\n",
    "### Of course, quality and quantity of data is an important underlying factor, if data from a different problem is used for a use-case, it will likely underperform compared to the heruistic\n"
   ]
  },
  {
   "cell_type": "markdown",
   "metadata": {},
   "source": [
    "## Which is the right approach?\n",
    "### In many cases, a complementary approach between model optimization and heuristics could be the most effective solution\n",
    "\n",
    "### My approach: A complementary solution, or a basic ARIMA/Random Forest Regressor Model \n",
    "### Model Selection \n",
    "Why ARIMA?\n",
    "- Takes seasonality into account - important from a product perspective - Rides can boom/dip suring summer, for example\n",
    "- Already has some feature engineering built in  - for example, lag features - which could be essential if you want to account for the previous entry's possible rate of error - could handle the genuine bugs/outliers in the dataset\n",
    " \n",
    "Why Random Forest?\n",
    "- Could capture **Non-Linearity**. Relationships between **battery levels,vehicle types,ride usage across cities** could be non-linear\n",
    "- Noise-resistant - Less sensitive to noise compared to decision trees - stable choice\n",
    "- Generalization - Handles unseen data well, preventing a risk of underfitting or overfitting\n",
    "\n",
    "\n",
    "### How?\n",
    "### Benchmark a Model with a Heuristic\n",
    "- Use a heuristic to establish a baseline\n",
    "  - Product-wise in a real-time env, this could even be a solution that could be shipped\n",
    "- Establishing a **baseline to beat** could also lead to a better integrated solution - one that could be trained on an existing expectation of how large/small a KPI is set to\n",
    "\n",
    "## Why?\n",
    "The added advantages of training a model on a heuristic are:\n",
    "- Use a pre-coded heuristic with product know-how and decision making experience to generate a **good** solution\n",
    "- You don't need to let the model start from scratch. The model will either improve the heuristic or achieve optimality eventually"
   ]
  },
  {
   "cell_type": "code",
   "execution_count": 3,
   "metadata": {},
   "outputs": [],
   "source": [
    "#libraries\n",
    "import pandas as pd\n",
    "#for preventing under/overfitting, better performance on unseen and new data\n",
    "from sklearn.model_selection import train_test_split\n",
    "#model\n",
    "from sklearn.ensemble import RandomForestRegressor\n",
    "#comparison, estimations\n",
    "from sklearn.metrics import mean_squared_error"
   ]
  },
  {
   "cell_type": "code",
   "execution_count": 4,
   "metadata": {},
   "outputs": [],
   "source": [
    "#load dataset\n",
    "data=pd.read_csv('/Users/vikramvenkat/Downloads/dott_dsia_rides.csv')"
   ]
  },
  {
   "cell_type": "markdown",
   "metadata": {},
   "source": [
    "### Improved heuristic\n",
    "This was my idea for a potentially better heuristic\n",
    "\n",
    "The current one doesn't incorporate factors that could influence the estimation\n",
    "\n",
    "Hence, I implement a heuristic that accounts for battery level and vehicle type, while considering the efficiency of different types of vehicles\n",
    "\n",
    "### Battery Factor\n",
    "Can help in determining the efficiency of the vehicle\n",
    "Values are chosen on assumptions based on my domain knowledge, I assume a scooter is more powerful than a bike\n",
    "This can be refined through experimentation, but parameter refining is not the focus\n"
   ]
  },
  {
   "cell_type": "code",
   "execution_count": 13,
   "metadata": {},
   "outputs": [
    {
     "name": "stdout",
     "output_type": "stream",
     "text": [
      "       main_battery_level_before_ride vehicle_type  battery_voltage  \\\n",
      "0                                89.0      scooter              0.0   \n",
      "1                                76.0      scooter              0.0   \n",
      "2                                14.0      scooter              0.0   \n",
      "3                                93.0      scooter              0.0   \n",
      "4                                78.0      scooter              0.0   \n",
      "...                               ...          ...              ...   \n",
      "47592                            38.0         bike          36000.0   \n",
      "47593                            18.0         bike          36000.0   \n",
      "47594                            90.0         bike          36000.0   \n",
      "47595                            40.0         bike          36000.0   \n",
      "47596                            89.0         bike          36000.0   \n",
      "\n",
      "       EstimatedDistance  \n",
      "0                    0.0  \n",
      "1                    0.0  \n",
      "2                    0.0  \n",
      "3                    0.0  \n",
      "4                    0.0  \n",
      "...                  ...  \n",
      "47592            26600.0  \n",
      "47593            12600.0  \n",
      "47594            63000.0  \n",
      "47595            28000.0  \n",
      "47596            62300.0  \n",
      "\n",
      "[47597 rows x 4 columns]\n"
     ]
    }
   ],
   "source": [
    "\n",
    "'''\n",
    "Had to impute the data- didn't run without exception handling\n",
    "'''\n",
    "data['battery_voltage'] = data['battery_voltage'].astype(float)\n",
    "\n",
    "# Impute NaN values with 0\n",
    "#probably a better way by linear regression of previous rows - not sure if I'm supposed to do that in regards to assignment scope\n",
    "data['battery_voltage'].fillna(0, inplace=True)\n",
    "\n",
    "#Heuristic Function - Calculates estimate for every row\n",
    "def heuristic_function(row):\n",
    "    battery_factor = 70 if row['vehicle_type'] == 'bike' else 80\n",
    "    battery_factor *= row['battery_voltage'] / 3600\n",
    "    estimated_distance = row['main_battery_level_before_ride'] * battery_factor\n",
    "    return estimated_distance\n",
    "\n",
    "# Apply the heuristic function to the dataset\n",
    "data['EstimatedDistance'] = data.apply(heuristic_function, axis=1)\n",
    "\n",
    "# Print the first few rows with the estimated distances\n",
    "print(data[['main_battery_level_before_ride', 'vehicle_type', 'battery_voltage', 'EstimatedDistance']])"
   ]
  },
  {
   "cell_type": "code",
   "execution_count": 15,
   "metadata": {},
   "outputs": [],
   "source": [
    "#Split data for training\n",
    "\n",
    "#factor variables and target variable\n",
    "X = data[['main_battery_level_before_ride', 'vehicle_type']]\n",
    "y = data['total_distance_meters']\n",
    "X_train, X_test, y_train, y_test = train_test_split(X, y, test_size=0.2, random_state=42)"
   ]
  }
 ],
 "metadata": {
  "kernelspec": {
   "display_name": "Python 3.10.11 64-bit",
   "language": "python",
   "name": "python3"
  },
  "language_info": {
   "codemirror_mode": {
    "name": "ipython",
    "version": 3
   },
   "file_extension": ".py",
   "mimetype": "text/x-python",
   "name": "python",
   "nbconvert_exporter": "python",
   "pygments_lexer": "ipython3",
   "version": "3.10.11"
  },
  "orig_nbformat": 4,
  "vscode": {
   "interpreter": {
    "hash": "7e1998ff7f8aa20ada591c520b972326324e5ea05489af9e422744c7c09f6dad"
   }
  }
 },
 "nbformat": 4,
 "nbformat_minor": 2
}
